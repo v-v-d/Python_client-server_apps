{
 "cells": [
  {
   "cell_type": "code",
   "execution_count": 3,
   "metadata": {},
   "outputs": [
    {
     "data": {
      "text/plain": [
       "[{'Изготовитель системы': 'LENOVO',\n",
       "  'Код продукта': '00971-OEM-1982661-00231',\n",
       "  'Название ОС': 'Microsoft Windows 7 Профессиональная',\n",
       "  'Тип системы': 'x64-based PC'},\n",
       " {'Изготовитель системы': 'ACER',\n",
       "  'Код продукта': '00971-OEM-1982661-00231',\n",
       "  'Название ОС': 'Microsoft Windows 10 Professional',\n",
       "  'Тип системы': 'x64-based PC'},\n",
       " {'Изготовитель системы': 'DELL',\n",
       "  'Код продукта': '00971-OEM-1982661-00231',\n",
       "  'Название ОС': 'Microsoft Windows 8.1 Professional',\n",
       "  'Тип системы': 'x86-based PC'}]"
      ]
     },
     "execution_count": 3,
     "metadata": {},
     "output_type": "execute_result"
    }
   ],
   "source": [
    "import csv\n",
    "import yaml\n",
    "\n",
    "\n",
    "def get_dict_arr_from_csv(filename):\n",
    "    with open(filename) as file:\n",
    "        file_reader = csv.DictReader(file)\n",
    "        return [dict(row) for row in file_reader]\n",
    "    \n",
    "    \n",
    "def write_to_yaml(filename, data):\n",
    "    with open(filename, 'w') as file:\n",
    "        yaml.dump(data, file, default_flow_style=False, allow_unicode=True)\n",
    "        \n",
    "        \n",
    "def read_from_yaml(filename):\n",
    "    with open(filename) as file:\n",
    "        return yaml.load(file, Loader=yaml.FullLoader)\n",
    "\n",
    "    \n",
    "write_to_yaml('data/info_1.yaml', get_dict_arr_from_csv('data/info_1.csv'))\n",
    "read_from_yaml('data/info_1.yaml')\n"
   ]
  },
  {
   "cell_type": "code",
   "execution_count": null,
   "metadata": {},
   "outputs": [],
   "source": []
  }
 ],
 "metadata": {
  "kernelspec": {
   "display_name": "Python 3",
   "language": "python",
   "name": "python3"
  },
  "language_info": {
   "codemirror_mode": {
    "name": "ipython",
    "version": 3
   },
   "file_extension": ".py",
   "mimetype": "text/x-python",
   "name": "python",
   "nbconvert_exporter": "python",
   "pygments_lexer": "ipython3",
   "version": "3.7.3"
  }
 },
 "nbformat": 4,
 "nbformat_minor": 2
}
