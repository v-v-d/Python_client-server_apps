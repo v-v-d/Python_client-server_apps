{
 "cells": [
  {
   "cell_type": "code",
   "execution_count": 21,
   "metadata": {},
   "outputs": [],
   "source": [
    "import csv\n",
    "import json\n",
    "\n",
    "\n",
    "def get_dict_arr_from_csv(filename):\n",
    "    with open(filename) as file:\n",
    "        file_reader = csv.DictReader(file)\n",
    "        return [dict(row) for row in file_reader]\n",
    "    \n",
    "    \n",
    "def write_to_json(filename, data):\n",
    "    with open(filename, 'w') as file:\n",
    "        file.write(json.dumps(data, indent=2))\n",
    "\n",
    "write_to_json('data/info_1.json', get_dict_arr_from_csv('data/info_1.csv'))\n"
   ]
  },
  {
   "cell_type": "code",
   "execution_count": null,
   "metadata": {},
   "outputs": [],
   "source": []
  }
 ],
 "metadata": {
  "kernelspec": {
   "display_name": "Python 3",
   "language": "python",
   "name": "python3"
  },
  "language_info": {
   "codemirror_mode": {
    "name": "ipython",
    "version": 3
   },
   "file_extension": ".py",
   "mimetype": "text/x-python",
   "name": "python",
   "nbconvert_exporter": "python",
   "pygments_lexer": "ipython3",
   "version": "3.7.3"
  }
 },
 "nbformat": 4,
 "nbformat_minor": 2
}
