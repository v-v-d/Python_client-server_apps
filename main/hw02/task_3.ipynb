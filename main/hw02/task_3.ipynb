{
 "cells": [
  {
   "cell_type": "code",
   "execution_count": 1,
   "metadata": {},
   "outputs": [
    {
     "data": {
      "text/plain": [
       "{'dict': {'rhombus': 'U+20DF', 'ring': 'U+20DD', 'square': 'U+20DE'},\n",
       " 'int': 10,\n",
       " 'list': []}"
      ]
     },
     "execution_count": 1,
     "metadata": {},
     "output_type": "execute_result"
    }
   ],
   "source": [
    "# Задание на закрепление знаний по модулю yaml. Написать скрипт, автоматизирующий\n",
    "# сохранение данных в файле YAML-формата\n",
    "import yaml\n",
    "\n",
    "\n",
    "def read_from_yaml(filename):\n",
    "    with open(filename) as file:\n",
    "        return yaml.load(file, Loader=yaml.FullLoader)\n",
    "\n",
    "\n",
    "def write_to_yaml(filename, data):\n",
    "    with open(filename, 'w') as file:\n",
    "        yaml.dump(data, file, default_flow_style=False, allow_unicode=True)\n",
    "\n",
    "\n",
    "dict_to_yaml = {\n",
    "    'list': [],\n",
    "    'int': 10,\n",
    "    'dict': {\n",
    "        'ring': 'U+20DD',\n",
    "        'square': 'U+20DE',\n",
    "        'rhombus': 'U+20DF',\n",
    "    },\n",
    "}\n",
    "\n",
    "yaml_filename = 'data/file.yaml'\n",
    "write_to_yaml(yaml_filename, dict_to_yaml)\n",
    "read_from_yaml(yaml_filename)\n"
   ]
  },
  {
   "cell_type": "code",
   "execution_count": null,
   "metadata": {},
   "outputs": [],
   "source": []
  }
 ],
 "metadata": {
  "kernelspec": {
   "display_name": "Python 3",
   "language": "python",
   "name": "python3"
  },
  "language_info": {
   "codemirror_mode": {
    "name": "ipython",
    "version": 3
   },
   "file_extension": ".py",
   "mimetype": "text/x-python",
   "name": "python",
   "nbconvert_exporter": "python",
   "pygments_lexer": "ipython3",
   "version": "3.7.3"
  }
 },
 "nbformat": 4,
 "nbformat_minor": 2
}
