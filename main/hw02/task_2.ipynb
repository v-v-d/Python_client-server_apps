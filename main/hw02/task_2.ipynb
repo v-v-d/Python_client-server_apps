{
 "cells": [
  {
   "cell_type": "code",
   "execution_count": 29,
   "metadata": {},
   "outputs": [],
   "source": [
    "# Задание на закрепление знаний по модулю j son. Есть файл orders в формате JSON с\n",
    "# информацией о заказах. Написать скрипт, автоматизирующий его заполнение данными\n",
    "import json\n",
    "\n",
    "\n",
    "def write_to_json(filename, data):\n",
    "    with open(filename, 'w') as file:\n",
    "        file.write(json.dumps(data, indent=2))\n",
    "        \n",
    "\n",
    "def get_orders_dict(keys, values):\n",
    "    return {'orders': [dict(zip(keys, values))]}\n",
    "    \n",
    "\n",
    "keys = ['item', 'quantity', 'price', 'buyer', 'date']\n",
    "values = ['product', 10, 100500, 'Ivan', '12.12.2019']\n",
    "\n",
    "write_to_json('data/orders.json', get_orders_dict(keys, values))\n"
   ]
  },
  {
   "cell_type": "code",
   "execution_count": null,
   "metadata": {},
   "outputs": [],
   "source": []
  }
 ],
 "metadata": {
  "kernelspec": {
   "display_name": "Python 3",
   "language": "python",
   "name": "python3"
  },
  "language_info": {
   "codemirror_mode": {
    "name": "ipython",
    "version": 3
   },
   "file_extension": ".py",
   "mimetype": "text/x-python",
   "name": "python",
   "nbconvert_exporter": "python",
   "pygments_lexer": "ipython3",
   "version": "3.7.3"
  }
 },
 "nbformat": 4,
 "nbformat_minor": 2
}
