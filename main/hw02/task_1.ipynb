{
 "cells": [
  {
   "cell_type": "code",
   "execution_count": 24,
   "metadata": {},
   "outputs": [],
   "source": [
    "# Задание на закрепление знаний по модулю CSV. Написать скрипт, осуществляющий выборку\n",
    "# определенных данных из файлов i nfo_1.txt, i nfo_2.txt, i nfo_3.txt и формирующий новый\n",
    "# «отчетный» файл в формате CSV .\n",
    "import csv\n",
    "import re\n",
    "\n",
    "\n",
    "def get_data_from_file(filename):\n",
    "    with open(filename) as file:\n",
    "        return file.read()\n",
    "\n",
    "\n",
    "def get_custom_regex(inserted_value):\n",
    "    return f'({inserted_value}:\\s*)(.+\\S)'\n",
    "\n",
    "\n",
    "def write_to_csv(filename, data):\n",
    "    with open(filename, 'w') as file:\n",
    "        file_writer = csv.writer(file, quoting=csv.QUOTE_NONNUMERIC)\n",
    "        file_writer.writerows(data)\n",
    "\n",
    "\n",
    "def get_main_data_part(filename, headers):\n",
    "    return [re.search(get_custom_regex(header), get_data_from_file(filename)).group(2) for header in headers]\n",
    "\n",
    "\n",
    "def get_main_data(filenames, headers):\n",
    "    return [(get_main_data_part(filename, headers)) for filename in filenames]\n",
    "\n",
    "\n",
    "input_files = ['data/info_1.txt', 'data/info_2.txt', 'data/info_3.txt']\n",
    "output_files = ['data/info_1.csv', 'data/info_2.csv', 'data/info_3.csv']\n",
    "headers = ['Изготовитель системы', 'Название ОС', 'Код продукта', 'Тип системы']\n",
    "\n",
    "main_data = [headers, *get_main_data(input_files, headers)]\n",
    "\n",
    "for output_file in output_files:\n",
    "    write_to_csv(output_file, main_data)\n"
   ]
  },
  {
   "cell_type": "code",
   "execution_count": null,
   "metadata": {},
   "outputs": [],
   "source": []
  }
 ],
 "metadata": {
  "kernelspec": {
   "display_name": "Python 3",
   "language": "python",
   "name": "python3"
  },
  "language_info": {
   "codemirror_mode": {
    "name": "ipython",
    "version": 3
   },
   "file_extension": ".py",
   "mimetype": "text/x-python",
   "name": "python",
   "nbconvert_exporter": "python",
   "pygments_lexer": "ipython3",
   "version": "3.7.3"
  },
  "pycharm": {
   "stem_cell": {
    "cell_type": "raw",
    "source": [],
    "metadata": {
     "collapsed": false
    }
   }
  }
 },
 "nbformat": 4,
 "nbformat_minor": 2
}