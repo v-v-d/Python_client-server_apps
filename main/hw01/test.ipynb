{
 "cells": [
  {
   "cell_type": "code",
   "execution_count": 22,
   "metadata": {},
   "outputs": [],
   "source": [
    "# Необходимые и достаточные условия\n",
    "# Реализовать приведение строк \"разработка\", \"сокет\", \"декоратор\" к типу bytes используя нативные методы строк;\n",
    "b_str_1 = 'разработка'.encode()\n",
    "b_str_2 = 'сокет'.encode()\n",
    "b_str_3 = 'декоратор'.encode()"
   ]
  },
  {
   "cell_type": "code",
   "execution_count": 26,
   "metadata": {},
   "outputs": [],
   "source": [
    "# Реализовать приведение полученных экземпляров типа bytes к типу str;\n",
    "str_1 = b_str_1.decode()\n",
    "str_2 = b_str_2.decode()\n",
    "str_3 = b_str_3.decode()"
   ]
  },
  {
   "cell_type": "code",
   "execution_count": 34,
   "metadata": {},
   "outputs": [
    {
     "data": {
      "text/plain": [
       "'разработка'"
      ]
     },
     "execution_count": 34,
     "metadata": {},
     "output_type": "execute_result"
    }
   ],
   "source": [
    "# Реализовать приведение полученных строк и байтовых последовательностей с использование различных кодировок utf-8 latin-1.\n",
    "# str_1.encode('latin-1')    # --> UnicodeEncodeError\n",
    "# b_str_1.decode('latin-1')    # --> 'Ñ\\x80Ð°Ð·Ñ\\x80Ð°Ð±Ð¾Ñ\\x82ÐºÐ°'\n",
    "str_1.encode('utf-8')    # --> b'\\xd1\\x80\\xd0\\xb0\\xd0\\xb7\\xd1\\x80\\xd0\\xb0\\xd0\\xb1\\xd0\\xbe\\xd1\\x82\\xd0\\xba\\xd0\\xb0'\n",
    "b_str_1.decode('utf-8')    # --> 'разработка'"
   ]
  }
 ],
 "metadata": {
  "kernelspec": {
   "display_name": "Python 3",
   "language": "python",
   "name": "python3"
  },
  "language_info": {
   "codemirror_mode": {
    "name": "ipython",
    "version": 3
   },
   "file_extension": ".py",
   "mimetype": "text/x-python",
   "name": "python",
   "nbconvert_exporter": "python",
   "pygments_lexer": "ipython3",
   "version": "3.7.3"
  }
 },
 "nbformat": 4,
 "nbformat_minor": 2
}
